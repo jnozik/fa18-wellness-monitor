{
 "cells": [
  {
   "cell_type": "code",
   "execution_count": 2,
   "metadata": {},
   "outputs": [],
   "source": [
    "import numpy as np\n",
    "import pywt as pw\n",
    "import matplotlib.pyplot as plt\n",
    "\n",
    "import os\n",
    "import shutil\n",
    "import wfdb # to read heartbeat files\n",
    "\n",
    "from numpy import cos, sin, pi, absolute, arange\n",
    "from scipy.signal import kaiserord, lfilter, firwin, freqz, decimate, get_window\n",
    "from pylab import figure, clf, plot, xlabel, ylabel, xlim, ylim, title, grid, axes, show"
   ]
  },
  {
   "cell_type": "markdown",
   "metadata": {},
   "source": [
    "# Filter Generation - Golden Model"
   ]
  },
  {
   "cell_type": "markdown",
   "metadata": {},
   "source": [
    "Demo inspiration from https://scipy-cookbook.readthedocs.io/items/FIRFilter.html"
   ]
  },
  {
   "cell_type": "code",
   "execution_count": null,
   "metadata": {},
   "outputs": [],
   "source": [
    "#------------------------------------------------\n",
    "# Create a signal for demonstration.\n",
    "#------------------------------------------------\n",
    "\n",
    "sample_rate = 100.0\n",
    "nsamples = 400\n",
    "t = arange(nsamples) / sample_rate\n",
    "input_signal = cos(2*pi*0.5*t) + 0.2*sin(2*pi*2.5*t+0.1) + \\\n",
    "        0.2*sin(2*pi*15.3*t) + 0.1*sin(2*pi*16.7*t + 0.1) + \\\n",
    "            0.1*sin(2*pi*23.45*t+.8)"
   ]
  },
  {
   "cell_type": "code",
   "execution_count": null,
   "metadata": {},
   "outputs": [],
   "source": [
    "#------------------------------------------------\n",
    "# Function to create a FIR filter.\n",
    "#------------------------------------------------\n",
    "\n",
    "# NOTE: ripple_db and width should be specified if using Kaiser window\n",
    "# TODO: Add Kaiser filter back in\n",
    "def generate_filter(N, sample_rate, cutoff_hz, ripple_db, width, lowpass=True):\n",
    "    # The Nyquist rate of the signal.\n",
    "    nyq_rate = sample_rate / 2.0\n",
    "    \n",
    "    # Compute the order and Kaiser parameter for the FIR filter.\n",
    "    # Note: cannot generate highpass filter using firwin if N is even; N must be odd\n",
    "    # N, beta = kaiserord(ripple_db, width)\n",
    "    \n",
    "    if lowpass:\n",
    "        # Use firwin with a Kaiser window to create a lowpass FIR filter.\n",
    "        #lowpass_taps = firwin(N, cutoff_hz/nyq_rate, window=('kaiser', beta), pass_zero=True)\n",
    "        # TODO: Haar window not supported by firwin, find a workaround to be consistent with medium article\n",
    "        lowpass_taps = firwin(N, cutoff_hz/nyq_rate, pass_zero=True)\n",
    "        #print(\"Creating \", N, \"-tap lowpass filter, cutoff freq: \", cutoff_hz, \"\\n taps:\", lowpass_taps)\n",
    "        return lowpass_taps\n",
    "    else:\n",
    "        # Use firwin with a Kaiser window to create a highpass FIR filter.\n",
    "        #highpass_taps = firwin(N, cutoff_hz/nyq_rate, window=('kaiser', beta), pass_zero=False)\n",
    "        highpass_taps = firwin(N, cutoff_hz/nyq_rate, pass_zero=False)\n",
    "        #print(\"Creating \", N, \"-tap highpass filter, cutoff freq: \", cutoff_hz, \"\\n taps:\", highpass_taps)\n",
    "        return highpass_taps"
   ]
  },
  {
   "cell_type": "code",
   "execution_count": null,
   "metadata": {},
   "outputs": [],
   "source": [
    "#------------------------------------------------\n",
    "# Choose the filter parameters.\n",
    "#------------------------------------------------\n",
    "\n",
    "# The desired width of the transition from pass to stop,\n",
    "# relative to the Nyquist rate.  We'll design the filter\n",
    "# with a 5 Hz transition width.\n",
    "nyq_rate = sample_rate / 2.0\n",
    "width = 5.0/nyq_rate\n",
    "\n",
    "# The desired attenuation in the stop band, in dB.\n",
    "ripple_db = 60.0\n",
    "\n",
    "N = 75\n",
    "\n",
    "# The cutoff frequency of the filter.\n",
    "cutoff_hz = 49.0"
   ]
  },
  {
   "cell_type": "code",
   "execution_count": null,
   "metadata": {},
   "outputs": [],
   "source": [
    "#------------------------------------------------\n",
    "# Generate the lowpass and highpass filters.\n",
    "#------------------------------------------------\n",
    "\n",
    "lp_taps = generate_filter(N, sample_rate, cutoff_hz, ripple_db, width, lowpass=True)\n",
    "hp_taps = generate_filter(N, sample_rate, cutoff_hz, ripple_db, width, lowpass=False)"
   ]
  },
  {
   "cell_type": "code",
   "execution_count": null,
   "metadata": {},
   "outputs": [],
   "source": [
    "#------------------------------------------------\n",
    "# Plot the FIR filter coefficients.\n",
    "#------------------------------------------------\n",
    "\n",
    "# lowpass filter\n",
    "figure(1)\n",
    "plot(lp_taps, 'bo-', linewidth=2)\n",
    "title('Lowpass Filter Coefficients (%d taps)' % N)\n",
    "grid(True)\n",
    "\n",
    "# highpass filter\n",
    "figure(2)\n",
    "plot(hp_taps, 'bo-', linewidth=2)\n",
    "title('Highpass Filter Coefficients (%d taps)' % N)\n",
    "grid(True)"
   ]
  },
  {
   "cell_type": "code",
   "execution_count": null,
   "metadata": {},
   "outputs": [],
   "source": [
    "#------------------------------------------------\n",
    "# Plot the magnitude response of the filter.\n",
    "#------------------------------------------------\n",
    "\n",
    "# Lowpass filter\n",
    "figure(1)\n",
    "clf()\n",
    "w, h = freqz(lp_taps, worN=8000)\n",
    "plot((w/pi)*nyq_rate, absolute(h), linewidth=2)\n",
    "xlabel('Frequency (Hz)')\n",
    "ylabel('Gain')\n",
    "title('Frequency Response')\n",
    "ylim(-0.05, 1.05)\n",
    "grid(True)\n",
    "\n",
    "# Upper inset plot.\n",
    "ax1 = axes([0.42, 0.6, .45, .25])\n",
    "plot((w/pi)*nyq_rate, absolute(h), linewidth=2)\n",
    "xlim(0,8.0)\n",
    "ylim(0.9985, 1.001)\n",
    "grid(True)\n",
    "\n",
    "# Lower inset plot\n",
    "ax2 = axes([0.42, 0.25, .45, .25])\n",
    "plot((w/pi)*nyq_rate, absolute(h), linewidth=2)\n",
    "xlim(12.0, 20.0)\n",
    "ylim(0.0, 0.0025)\n",
    "grid(True)\n",
    "\n",
    "#######################################################################3\n",
    "# Highpass filter\n",
    "figure(2)\n",
    "clf()\n",
    "w, h = freqz(hp_taps, worN=8000)\n",
    "plot((w/pi)*nyq_rate, absolute(h), linewidth=2)\n",
    "xlabel('Frequency (Hz)')\n",
    "ylabel('Gain')\n",
    "title('Frequency Response')\n",
    "ylim(-0.05, 1.05)\n",
    "grid(True)\n",
    "\n",
    "# Upper inset plot.\n",
    "ax1 = axes([0.42, 0.6, .45, .25])\n",
    "plot((w/pi)*nyq_rate, absolute(h), linewidth=2)\n",
    "xlim(0,8.0)\n",
    "ylim(0.9985, 1.001)\n",
    "grid(True)\n",
    "\n",
    "# Lower inset plot\n",
    "ax2 = axes([0.42, 0.25, .45, .25])\n",
    "plot((w/pi)*nyq_rate, absolute(h), linewidth=2)\n",
    "xlim(12.0, 20.0)\n",
    "ylim(0.0, 0.0025)\n",
    "grid(True)"
   ]
  },
  {
   "cell_type": "code",
   "execution_count": null,
   "metadata": {},
   "outputs": [],
   "source": [
    "#------------------------------------------------\n",
    "# Function to apply FIR filters to input_signal.\n",
    "#------------------------------------------------\n",
    "\n",
    "# NOTE: filter length will be a parameter in scala\n",
    "def filter_signal(taps, signal):\n",
    "    # Use lfilter to filter input_signal with the FIR filters.\n",
    "    return lfilter(taps, 1.0, signal)\n",
    "\n",
    "def apply_lowpass_filter(signal, lp_taps=lp_taps):\n",
    "    return(filter_signal(lp_taps, signal))\n",
    "\n",
    "def apply_highpass_filter(signal, hp_taps=hp_taps):\n",
    "    return(filter_signal(hp_taps, signal))"
   ]
  },
  {
   "cell_type": "code",
   "execution_count": null,
   "metadata": {},
   "outputs": [],
   "source": [
    "#------------------------------------------------\n",
    "# Apply filters to input signal.\n",
    "#------------------------------------------------\n",
    "LP_filtered_input_signal = apply_lowpass_filter(input_signal)\n",
    "HP_filtered_input_signal = apply_highpass_filter(input_signal)\n",
    "\n",
    "print(LP_filtered_input_signal)\n",
    "print(HP_filtered_input_signal)\n",
    "\n",
    "print(len(LP_filtered_input_signal))\n",
    "print(len(HP_filtered_input_signal))\n"
   ]
  },
  {
   "cell_type": "code",
   "execution_count": null,
   "metadata": {},
   "outputs": [],
   "source": [
    "#------------------------------------------------\n",
    "# Plot the original and filtered signals.\n",
    "#------------------------------------------------\n",
    "\n",
    "# The phase delay of the filtered signal.\n",
    "delay = 0.5 * (N-1) / sample_rate\n",
    "\n",
    "\n",
    "# Lowpass filter\n",
    "figure(1)\n",
    "# Plot the original signal.\n",
    "plot(t, input_signal)\n",
    "# Plot the filtered signal, shifted to compensate for the phase delay.\n",
    "plot(t-delay, LP_filtered_input_signal, 'r-')\n",
    "# Plot just the \"good\" part of the filtered signal.  The first N-1\n",
    "# samples are \"corrupted\" by the initial conditions.\n",
    "plot(t[N-1:]-delay, LP_filtered_input_signal[N-1:], 'g', linewidth=4)\n",
    "\n",
    "xlabel('t')\n",
    "grid(True)\n",
    "\"\"\"\n",
    "\n",
    "# The phase delay of the filtered signal.\n",
    "delay = 0.5 * (N-1) / sample_rate\n",
    "\n",
    "figure(3)\n",
    "# Plot the original signal.\n",
    "plot(t, input_signal)\n",
    "# Plot the filtered signal, shifted to compensate for the phase delay.\n",
    "plot(t-delay, LP_filtered_input_signal, 'r-')\n",
    "# Plot just the \"good\" part of the filtered signal.  The first N-1\n",
    "# samples are \"corrupted\" by the initial conditions.\n",
    "plot(t[N-1:]-delay, LP_filtered_input_signal[N-1:], 'g', linewidth=4)\n",
    "\n",
    "xlabel('t')\n",
    "grid(True)\n",
    "\n",
    "show()\n",
    "\n",
    "\"\"\"\n",
    "# Highpass filter\n",
    "figure(2)\n",
    "# Plot the original signal.\n",
    "plot(t, input_signal)\n",
    "# Plot the filtered signal, shifted to compensate for the phase delay.\n",
    "plot(t-delay, HP_filtered_input_signal, 'r-')\n",
    "# Plot just the \"good\" part of the filtered signal.  The first N-1\n",
    "# samples are \"corrupted\" by the initial conditions.\n",
    "plot(t[N-1:]-delay, HP_filtered_input_signal[N-1:], 'g', linewidth=4)\n",
    "\n",
    "xlabel('t')\n",
    "grid(True)\n",
    "\n",
    "show()\n"
   ]
  },
  {
   "cell_type": "markdown",
   "metadata": {},
   "source": [
    "## Naive Decimation\n",
    "Simply remove every other element from the list"
   ]
  },
  {
   "cell_type": "code",
   "execution_count": null,
   "metadata": {},
   "outputs": [],
   "source": [
    "my_list = [1, 2, 3, 4, 5]\n",
    "print(my_list[1::2])"
   ]
  },
  {
   "cell_type": "code",
   "execution_count": null,
   "metadata": {},
   "outputs": [],
   "source": [
    "LP_filtered_downsampled_input_signal = LP_filtered_input_signal[1::2]\n",
    "HP_filtered_downsampled_input_signal = HP_filtered_input_signal[1::2]"
   ]
  },
  {
   "cell_type": "markdown",
   "metadata": {},
   "source": [
    "## Low-pass filter decimate \n",
    "Apply an anti-alias filter before downsampling to avoid aliasing of information"
   ]
  },
  {
   "cell_type": "code",
   "execution_count": null,
   "metadata": {},
   "outputs": [],
   "source": [
    "LP_filtered_downsampled_input_signal = decimate(LP_filtered_input_signal, 2, ftype='fir', axis=-1, zero_phase=True)"
   ]
  },
  {
   "cell_type": "code",
   "execution_count": null,
   "metadata": {},
   "outputs": [],
   "source": [
    "def decimate_signal(signal, decimation_factor=2, naive=True):\n",
    "    if naive:\n",
    "        return signal[1::decimation_factor]\n",
    "    else:\n",
    "        return decimate(signal, decimation_factor, ftype='fir', axis=-1, zero_phase=True)"
   ]
  },
  {
   "cell_type": "code",
   "execution_count": null,
   "metadata": {},
   "outputs": [],
   "source": [
    "#------------------------------------------------\n",
    "# Decimate the filtered signal.\n",
    "#------------------------------------------------\n",
    "\n",
    "LP_decimated_signal = decimate_signal(LP_filtered_input_signal, decimation_factor=2, naive=True)\n",
    "HP_decimated_signal = decimate_signal(HP_filtered_input_signal, decimation_factor=2, naive=True)\n",
    "\n",
    "# TODO: Require that the signal length along the transformed axis be a multiple of 2**level (if not decimating).\n",
    "# If this is not the case, the user should pad up to an appropriate size using a function such as numpy.pad.\n"
   ]
  },
  {
   "cell_type": "markdown",
   "metadata": {},
   "source": [
    "# Combine filters and decimation"
   ]
  },
  {
   "cell_type": "code",
   "execution_count": null,
   "metadata": {},
   "outputs": [],
   "source": [
    "# Function to perform single level of wavelet transform (highpass & lowpass filters, decimation)\n",
    "\n",
    "def single_level_wavelet_transform(input_signal, num_taps, sample_rate, cutoff_hz, ripple_db, width, decimate=True, naive=True):\n",
    "    #------------------------------------------------\n",
    "    # Generate the lowpass and highpass filters.\n",
    "    #------------------------------------------------\n",
    "\n",
    "    lp_taps = generate_filter(N, sample_rate, cutoff_hz, ripple_db, width, lowpass=True)\n",
    "    hp_taps = generate_filter(N, sample_rate, cutoff_hz, ripple_db, width, lowpass=False)\n",
    "\n",
    "    #------------------------------------------------\n",
    "    # Apply filters to input signal.\n",
    "    #------------------------------------------------\n",
    "    LP_filtered_input_signal = apply_lowpass_filter(input_signal)\n",
    "    HP_filtered_input_signal = apply_highpass_filter(input_signal)\n",
    "\n",
    "    #------------------------------------------------\n",
    "    # Decimate the filtered signal.\n",
    "    #------------------------------------------------\n",
    "    if decimate:\n",
    "        LP_decimated_signal = decimate_signal(LP_filtered_input_signal, decimation_factor=2, naive=True)\n",
    "        HP_decimated_signal = decimate_signal(HP_filtered_input_signal, decimation_factor=2, naive=True)\n",
    "        \n",
    "        return (LP_decimated_signal, HP_decimated_signal) # be consistent with pywt: (cA1, cD1) where approximation coeffs are from LPF\n",
    "    else: \n",
    "        return (LP_filtered_input_signal, HP_filtered_input_signal)"
   ]
  },
  {
   "cell_type": "code",
   "execution_count": null,
   "metadata": {},
   "outputs": [],
   "source": [
    "# Test the function\n",
    "coeffs = single_level_wavelet_transform(input_signal, N, sample_rate, cutoff_hz, ripple_db, width, decimate=False, naive=True)"
   ]
  },
  {
   "cell_type": "code",
   "execution_count": null,
   "metadata": {},
   "outputs": [],
   "source": [
    "#------------------------------------------------\n",
    "# Plot the original and filtered signals.\n",
    "#------------------------------------------------\n",
    "\n",
    "# The phase delay of the filtered signal.\n",
    "delay = 0.5 * (N-1) / sample_rate\n",
    "\n",
    "# Lowpass filter\n",
    "figure(1)\n",
    "# Plot the original signal.\n",
    "plot(t, input_signal)\n",
    "# Plot the filtered signal, shifted to compensate for the phase delay.\n",
    "plot(t-delay, coeffs[0], 'r-')\n",
    "# Plot just the \"good\" part of the filtered signal.  The first N-1\n",
    "# samples are \"corrupted\" by the initial conditions.\n",
    "plot(t[N-1:]-delay, coeffs[0][N-1:], 'g', linewidth=4)\n",
    "\n",
    "xlabel('t')\n",
    "grid(True)\n",
    "\"\"\"\n",
    "\n",
    "# The phase delay of the filtered signal.\n",
    "delay = 0.5 * (N-1) / sample_rate\n",
    "\n",
    "figure(3)\n",
    "# Plot the original signal.\n",
    "plot(t, input_signal)\n",
    "# Plot the filtered signal, shifted to compensate for the phase delay.\n",
    "plot(t-delay, LP_filtered_input_signal, 'r-')\n",
    "# Plot just the \"good\" part of the filtered signal.  The first N-1\n",
    "# samples are \"corrupted\" by the initial conditions.\n",
    "plot(t[N-1:]-delay, LP_filtered_input_signal[N-1:], 'g', linewidth=4)\n",
    "\n",
    "xlabel('t')\n",
    "grid(True)\n",
    "\n",
    "show()\n",
    "\n",
    "\"\"\"\n",
    "# Highpass filter\n",
    "figure(2)\n",
    "# Plot the original signal.\n",
    "plot(t, input_signal)\n",
    "# Plot the filtered signal, shifted to compensate for the phase delay.\n",
    "plot(t-delay, coeffs[1], 'r-')\n",
    "# Plot just the \"good\" part of the filtered signal.  The first N-1\n",
    "# samples are \"corrupted\" by the initial conditions.\n",
    "plot(t[N-1:]-delay, coeffs[1][N-1:], 'g', linewidth=4)\n",
    "\n",
    "xlabel('t')\n",
    "grid(True)\n",
    "\n",
    "show()"
   ]
  },
  {
   "cell_type": "code",
   "execution_count": null,
   "metadata": {},
   "outputs": [],
   "source": [
    "def multi_level_wavelet_transform(input_signal, N, sample_rate, cutoff_hz, ripple_db, width, decimate=False, naive=True, num_levels=3):\n",
    "    all_coeffs = []\n",
    "    all_coeffs_empty = []\n",
    "    for i in range(0, num_levels):\n",
    "        coeffs = single_level_wavelet_transform(input_signal, N, sample_rate, cutoff_hz, ripple_db, width, decimate, naive)\n",
    "        all_coeffs = [coeffs] + all_coeffs\n",
    "        all_coeffs_empty = [(0,0)] + all_coeffs_empty\n",
    "        print(\"Level: \", i)\n",
    "        print(\"Coeffs list structure: \", all_coeffs_empty)\n",
    "    return all_coeffs"
   ]
  },
  {
   "cell_type": "code",
   "execution_count": null,
   "metadata": {},
   "outputs": [],
   "source": [
    "all_coeffs = multi_level_wavelet_transform(input_signal, N, sample_rate, cutoff_hz, ripple_db, width, decimate=False, naive=True, num_levels=3)\n",
    "#print(all_coeffs)"
   ]
  },
  {
   "cell_type": "code",
   "execution_count": null,
   "metadata": {},
   "outputs": [],
   "source": [
    "#------------------------------------------------\n",
    "# Plot the original and filtered signals.\n",
    "#------------------------------------------------\n",
    "\n",
    "# The phase delay of the filtered signal.\n",
    "delay = 0.5 * (N-1) / sample_rate\n",
    "\n",
    "# Lowpass filter\n",
    "figure(1)\n",
    "# Plot the original signal.\n",
    "plot(t, input_signal)\n",
    "# Plot the filtered signal, shifted to compensate for the phase delay.\n",
    "plot(t-delay, all_coeffs[1][0], 'r-')\n",
    "# Plot just the \"good\" part of the filtered signal.  The first N-1\n",
    "# samples are \"corrupted\" by the initial conditions.\n",
    "plot(t[N-1:]-delay, all_coeffs[1][0][N-1:], 'g', linewidth=4)\n",
    "\n",
    "xlabel('t')\n",
    "grid(True)\n",
    "\"\"\"\n",
    "\n",
    "# The phase delay of the filtered signal.\n",
    "delay = 0.5 * (N-1) / sample_rate\n",
    "\n",
    "figure(3)\n",
    "# Plot the original signal.\n",
    "plot(t, input_signal)\n",
    "# Plot the filtered signal, shifted to compensate for the phase delay.\n",
    "plot(t-delay, LP_filtered_input_signal, 'r-')\n",
    "# Plot just the \"good\" part of the filtered signal.  The first N-1\n",
    "# samples are \"corrupted\" by the initial conditions.\n",
    "plot(t[N-1:]-delay, LP_filtered_input_signal[N-1:], 'g', linewidth=4)\n",
    "\n",
    "xlabel('t')\n",
    "grid(True)\n",
    "\n",
    "show()\n",
    "\n",
    "\"\"\"\n",
    "# Highpass filter\n",
    "figure(2)\n",
    "# Plot the original signal.\n",
    "plot(t, input_signal)\n",
    "# Plot the filtered signal, shifted to compensate for the phase delay.\n",
    "plot(t-delay, all_coeffs[1][0], 'r-')\n",
    "# Plot just the \"good\" part of the filtered signal.  The first N-1\n",
    "# samples are \"corrupted\" by the initial conditions.\n",
    "plot(t[N-1:]-delay, all_coeffs[1][1][N-1:], 'g', linewidth=4)\n",
    "\n",
    "xlabel('t')\n",
    "grid(True)\n",
    "\n",
    "show()"
   ]
  },
  {
   "cell_type": "code",
   "execution_count": null,
   "metadata": {},
   "outputs": [],
   "source": [
    "w = pw.Wavelet('haar')\n",
    "phi, psi, x = w.wavefun(level=20)\n",
    "print(w)\n",
    "\n",
    "fig, ax = plt.subplots()\n",
    "ax.set_xlim(-0.02, 1.02)\n",
    "ax.plot(x, psi)"
   ]
  },
  {
   "cell_type": "markdown",
   "metadata": {},
   "source": [
    "### Heartbeat datasets:\n",
    "\n",
    "MIT - http://physionet.org/physiobank/database/mitdb/\n",
    "360 samples per second per channel with 11-bit resolution over a 10 mV range\n",
    "\n",
    "To read the dataset using python, use the wfdb python library: https://github.com/MIT-LCP/wfdb-python"
   ]
  },
  {
   "cell_type": "code",
   "execution_count": 11,
   "metadata": {},
   "outputs": [
    {
     "data": {
      "image/png": "[encoded data removed]",
      "text/plain": [
       "<matplotlib.figure.Figure at 0x7fce01e271d0>"
      ]
     },
     "metadata": {},
     "output_type": "display_data"
    },
    {
     "name": "stdout",
     "output_type": "stream",
     "text": [
      "<wfdb.io.record.Record object at 0x7fce01e27208>\n"
     ]
    }
   ],
   "source": [
    "# Demo 5 - Read a WFDB record and annotation. Plot all channels, and the annotation on top of channel 0.\n",
    "record = wfdb.rdrecord('./heartbeat_dataset/100', sampto = 1500)\n",
    "annotation = wfdb.rdann('./heartbeat_dataset/100', 'atr', sampto = 1500)\n",
    "\n",
    "wfdb.plot_wfdb(record=record, annotation=annotation,\n",
    "               title='Record 100 from MIT-BIH Arrhythmia Database',\n",
    "               time_units='seconds')\n",
    "\n",
    "heartbeat_sample_rate = 360\n",
    "\n",
    "print(record)\n"
   ]
  },
  {
   "cell_type": "code",
   "execution_count": null,
   "metadata": {},
   "outputs": [],
   "source": []
  },
  {
   "cell_type": "code",
   "execution_count": null,
   "metadata": {},
   "outputs": [],
   "source": []
  }
 ],
 "metadata": {
  "kernelspec": {
   "display_name": "Python 3",
   "language": "python",
   "name": "python3"
  },
  "language_info": {
   "codemirror_mode": {
    "name": "ipython",
    "version": 3
   },
   "file_extension": ".py",
   "mimetype": "text/x-python",
   "name": "python",
   "nbconvert_exporter": "python",
   "pygments_lexer": "ipython3",
   "version": "3.5.3"
  }
 },
 "nbformat": 4,
 "nbformat_minor": 2
}
